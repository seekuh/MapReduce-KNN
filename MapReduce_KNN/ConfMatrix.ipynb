{
 "metadata": {
  "language_info": {
   "codemirror_mode": {
    "name": "ipython",
    "version": 3
   },
   "file_extension": ".py",
   "mimetype": "text/x-python",
   "name": "python",
   "nbconvert_exporter": "python",
   "pygments_lexer": "ipython3",
   "version": "3.6.3-final"
  },
  "orig_nbformat": 2,
  "kernelspec": {
   "name": "python3",
   "display_name": "Python 3.6.3 64-bit ('MapReduce': conda)",
   "metadata": {
    "interpreter": {
     "hash": "e9cac523e382910fe10ab63f98a263ac6c6cd74c50ba004b30c5fa0fdc502c06"
    }
   }
  }
 },
 "nbformat": 4,
 "nbformat_minor": 2,
 "cells": [
  {
   "cell_type": "code",
   "execution_count": 1,
   "metadata": {},
   "outputs": [],
   "source": [
    "import numpy as np\n",
    "import collections\n",
    "from scipy import stats\n",
    "from mrjob.job import MRJob\n",
    "from mrjob.step import MRStep\n",
    "from mrjob.protocol import JSONValueProtocol\n",
    "import MRKnnTrain\n",
    "import heapq\n",
    "import os\n",
    "import json\n",
    "from itertools import islice\n",
    "import ast\n",
    "import csv\n",
    "import pandas as pd\n",
    "from datetime import datetime\n",
    "from sklearn.metrics import confusion_matrix, ConfusionMatrixDisplay, accuracy_score, average_precision_score\n",
    "from sklearn.metrics import precision_recall_curve\n",
    "from sklearn.metrics import plot_precision_recall_curve\n",
    "import matplotlib.pyplot as plt\n",
    "\n",
    "true = 0\n",
    "false = 0"
   ]
  },
  {
   "cell_type": "code",
   "execution_count": 2,
   "metadata": {},
   "outputs": [],
   "source": [
    "k = 10 \n",
    "model = {}\n",
    "#parse model\n",
    "with open('./model_neu.json',encoding='utf-16') as src:\n",
    "    for line in src:\n",
    "        label_model, features_model = line.split('\\t')\n",
    "        features_model = features_model.replace('\\n', '')\n",
    "        features_model = ast.literal_eval(features_model)\n",
    "        label_model = ast.literal_eval(label_model)\n",
    "        model[label_model] = features_model"
   ]
  },
  {
   "cell_type": "code",
   "execution_count": 4,
   "metadata": {},
   "outputs": [
    {
     "output_type": "error",
     "ename": "SyntaxError",
     "evalue": "invalid syntax (<ipython-input-4-0dfec3486b97>, line 45)",
     "traceback": [
      "\u001b[0;36m  File \u001b[0;32m\"<ipython-input-4-0dfec3486b97>\"\u001b[0;36m, line \u001b[0;32m45\u001b[0m\n\u001b[0;31m    predictor_true = predi 1\u001b[0m\n\u001b[0m                           ^\u001b[0m\n\u001b[0;31mSyntaxError\u001b[0m\u001b[0;31m:\u001b[0m invalid syntax\n"
     ]
    }
   ],
   "source": [
    "with open(\"./test_neu.csv\") as src:\n",
    "    predictor_true = 0\n",
    "    predictor_false = 0\n",
    "    y_pred=[]\n",
    "    y_label=[]\n",
    "    for line in src:\n",
    "        # Extract feature set and class\n",
    "        data = line.split(',')\n",
    "        label = data[-1].replace('\\n', '')\n",
    "        y_label.append(label)\n",
    "        #print(data[-1])\n",
    "        features = [float(x) for x in data[:-1]]\n",
    "        nearest = [] \n",
    "        count = {} \n",
    "\n",
    "        for cat in model:\n",
    "            for point in model[cat]:\n",
    "                #print(point)\n",
    "                point[1:] = [float(x) for x in point[1:]]\n",
    "                dis = -1*np.linalg.norm(np.array(point[1:])-np.array(features)) \n",
    "                item = tuple([dis, point[1:], cat, point[0]])\n",
    "                if(len(nearest)<k):\n",
    "                    # If the nearest length is less than k, append directly\n",
    "                    nearest.append(item)\n",
    "                    continue\n",
    "                elif(len(nearest)==k):\n",
    "                    # If the nearest length is equal to k, transform the nearest into a heap\n",
    "                    heapq.heapify(nearest)\n",
    "                if(dis > nearest[0][0]):\n",
    "                    heapq.heapreplace(nearest,item)\n",
    "        \n",
    "        heaptemp = heapq.heappop(nearest)\n",
    "        #print(range(len(nearest)))\n",
    "\n",
    "        for i in range(len(nearest)):\n",
    "            temp = heapq.heappop(nearest)\n",
    "            if(temp[2] not in count):\n",
    "                count[temp[2]] = 1\n",
    "            else:\n",
    "                count[temp[2]] += 1       \n",
    "        res = max(count, key=count.get)\n",
    "        y_pred.append(res)\n",
    "        # Output true if the prediction is successful, otherwise false\n",
    "        if(res==label):\n",
    "            predictor_true += 1\n",
    "        else:\n",
    "            predictor_false += 1\n",
    "    "
   ]
  },
  {
   "cell_type": "code",
   "execution_count": 27,
   "metadata": {},
   "outputs": [
    {
     "output_type": "stream",
     "name": "stdout",
     "text": [
      "Accuary:0.6666666666666667%\n1 0\n"
     ]
    }
   ],
   "source": [
    "print(\"Accuary:\"+str(predictor_true/(predictor_true+predictor_false)*100)+\"%\")\n",
    "cm=confusion_matrix(y_label, y_pred)\n",
    "disp = ConfusionMatrixDisplay(confusion_matrix=cm)#display_labels=clf.classes_\n",
    "\n",
    "accuracy2 = accuracy_score(y_label, y_pred, normalize=true)\n",
    "error_rate = 1 - accuracy2\n",
    "\n",
    "print(accuracy2, error_rate)\n"
   ]
  },
  {
   "cell_type": "code",
   "execution_count": null,
   "metadata": {},
   "outputs": [],
   "source": []
  }
 ]
}